{
 "cells": [
  {
   "cell_type": "markdown",
   "metadata": {},
   "source": [
    "Lab Exercise - 2\n",
    "                i)                LIST\n",
    "                    ·                 Create a LIST with your domain attributes, insert the elements using the append (), insert(), extend() and add any iterables (tuples, sets, dictionaries etc.) to the list (Use all the methods ).\n"
   ]
  },
  {
   "cell_type": "code",
   "execution_count": 1,
   "metadata": {},
   "outputs": [
    {
     "name": "stdout",
     "output_type": "stream",
     "text": [
      "After append: ['Students', 'Teachers', 'Courses', 'Classes', 'Fees', 'Timetable', 'Library']\n",
      "After insert: ['Students', 'Teachers', 'Exams', 'Courses', 'Classes', 'Fees', 'Timetable', 'Library']\n",
      "After extend with tuple: ['Students', 'Teachers', 'Exams', 'Courses', 'Classes', 'Fees', 'Timetable', 'Library', 'Transportation', 'Sports']\n",
      "After extend with set: ['Students', 'Teachers', 'Exams', 'Courses', 'Classes', 'Fees', 'Timetable', 'Library', 'Transportation', 'Sports', 'Events', 'Cafeteria']\n",
      "After extend with dictionary: ['Students', 'Teachers', 'Exams', 'Courses', 'Classes', 'Fees', 'Timetable', 'Library', 'Transportation', 'Sports', 'Events', 'Cafeteria', 'Grades']\n"
     ]
    }
   ],
   "source": [
    "# Creating a list with domain attributes\n",
    "school_attri = ['Students', 'Teachers', 'Courses', 'Classes', 'Fees', 'Timetable']\n",
    "\n",
    "# Inserting elements using append()\n",
    "school_attri.append('Library')\n",
    "print(\"After append:\", school_attri)\n",
    "\n",
    "# Inserting elements using insert()\n",
    "school_attri.insert(2, 'Exams')\n",
    "print(\"After insert:\", school_attri)\n",
    "\n",
    "# Inserting elements using extend() with a tuple\n",
    "school_attri.extend(('Transportation', 'Sports'))\n",
    "print(\"After extend with tuple:\", school_attri)\n",
    "\n",
    "# Inserting elements using extend() with a set\n",
    "school_attri.extend({'Cafeteria', 'Events'})\n",
    "print(\"After extend with set:\", school_attri)\n",
    "\n",
    "# Inserting elements using extend() with a dictionary\n",
    "school_attri.extend({'Grades': ['A', 'B', 'C']})\n",
    "print(\"After extend with dictionary:\", school_attri)\n"
   ]
  },
  {
   "cell_type": "markdown",
   "metadata": {},
   "source": [
    "Create a list with numeric and perform the following operations.\n",
    "·       Write a program to swap the first and last elements in a list.\n",
    "·       Write a program to find the sum of the digits in a list.\n",
    "·       Write a program to find the smallest element in a list.\n"
   ]
  },
  {
   "cell_type": "code",
   "execution_count": 2,
   "metadata": {},
   "outputs": [
    {
     "name": "stdout",
     "output_type": "stream",
     "text": [
      "After swapping first and last elements: [20, 5, 8, 15, 10]\n",
      "Sum of digits in the list: 22\n",
      "Smallest element in the list: 5\n"
     ]
    }
   ],
   "source": [
    "# Creating a list with numeric values\n",
    "num_list = [10, 5, 8, 15, 20]\n",
    "# Swapping the first and last elements in the list\n",
    "num_list[0], num_list[-1] = num_list[-1], num_list[0]\n",
    "print(\"After swapping first and last elements:\", num_list)\n",
    "# Finding the sum of the digits in the list\n",
    "sum_digit = sum(int(digit) for num in num_list for digit in str(num))\n",
    "print(\"Sum of digits in the list:\", sum_digit)\n",
    "# Finding the smallest element in the list\n",
    "smallest_element = min(num_list)\n",
    "print(\"Smallest element in the list:\", smallest_element)\n"
   ]
  },
  {
   "cell_type": "markdown",
   "metadata": {},
   "source": [
    "ii)              Dictionaries\n",
    "·                  Sort the dictionaries in ascending order based on the Key of the dictionary.\n",
    "·                  Create the dictionary with Numeric as Value in Key – Value pair and find the sum of all the values in the Dictionary.\n",
    "·                  Write a Python code to demonstrate the sorting in descending order of values with lambda function.\n"
   ]
  },
  {
   "cell_type": "code",
   "execution_count": 4,
   "metadata": {},
   "outputs": [
    {
     "name": "stdout",
     "output_type": "stream",
     "text": [
      "Dictionary after sorting in ascending order based on keys: {101: 85, 102: 92, 103: 78, 104: 95, 105: 80}\n",
      "Sum of all the values in the dictionary: 430\n",
      "Dictionary sorted in descending order based on values: {'ramya': 95, 'chris': 92, 'manoj': 85, 'chigaa': 80, 'sneha': 78}\n"
     ]
    },
    {
     "ename": "",
     "evalue": "",
     "output_type": "error",
     "traceback": [
      "\u001b[1;31mThe Kernel crashed while executing code in the the current cell or a previous cell. Please review the code in the cell(s) to identify a possible cause of the failure. Click <a href='https://aka.ms/vscodeJupyterKernelCrash'>here</a> for more info. View Jupyter <a href='command:jupyter.viewOutput'>log</a> for further details."
     ]
    }
   ],
   "source": [
    "\n",
    "student_marks = {\n",
    "    101: 85,\n",
    "    102: 92,\n",
    "    103: 78,\n",
    "    104: 95,\n",
    "    105: 80\n",
    "}\n",
    "sorted_student_marks = {k: v for k, v in sorted(student_marks.items())}\n",
    "print(\"Dictionary after sorting in ascending order based on keys:\", sorted_student_marks)\n",
    "\n",
    "\n",
    "total_marks = sum(student_marks.values())\n",
    "print(\"Sum of all the values in the dictionary:\", total_marks)\n",
    "\n",
    "\n",
    "student_scores = {\n",
    "    \"manoj\": 85,\n",
    "    \"chris\": 92,\n",
    "    \"sneha\": 78,\n",
    "    \"ramya\": 95,\n",
    "    \"chigaa\": 80\n",
    "}\n",
    "\n",
    "sorted_student_scores = {k: v for k, v in sorted(student_scores.items(), key=lambda item: item[1], reverse=True)}\n",
    "\n",
    "print(\"Dictionary sorted in descending order based on values:\", sorted_student_scores)\n",
    "\n",
    "\n"
   ]
  }
 ],
 "metadata": {
  "kernelspec": {
   "display_name": "Python 3",
   "language": "python",
   "name": "python3"
  },
  "language_info": {
   "codemirror_mode": {
    "name": "ipython",
    "version": 3
   },
   "file_extension": ".py",
   "mimetype": "text/x-python",
   "name": "python",
   "nbconvert_exporter": "python",
   "pygments_lexer": "ipython3",
   "version": "3.10.11"
  },
  "orig_nbformat": 4
 },
 "nbformat": 4,
 "nbformat_minor": 2
}
